{
 "cells": [
  {
   "cell_type": "markdown",
   "id": "fd699252-28c0-45f9-a6c6-478f4c0531f6",
   "metadata": {},
   "source": [
    "# MNIST classification"
   ]
  },
  {
   "cell_type": "markdown",
   "id": "f4c87f90-8151-4273-af0d-935e7dbde902",
   "metadata": {},
   "source": [
    "#### 1. import packages"
   ]
  },
  {
   "cell_type": "code",
   "execution_count": 1,
   "id": "c7515d0d-338a-4b66-88b7-4959724625b3",
   "metadata": {},
   "outputs": [],
   "source": [
    "import numpy as np\n",
    "import torch\n",
    "import torch.nn as nn\n",
    "import torch.nn.functional as F\n",
    "from torchvision import datasets, transforms\n",
    "from torch.utils.data import random_split, DataLoader\n",
    "from tqdm.notebook import trange, tqdm\n",
    "import matplotlib.pyplot as plt\n",
    "%matplotlib inline\n",
    "from LogisticRegression import *"
   ]
  },
  {
   "cell_type": "markdown",
   "id": "d8d9d17c-ab2e-4156-b3d0-a75171010106",
   "metadata": {},
   "source": [
    "#### 1. Prepare dataset"
   ]
  },
  {
   "cell_type": "markdown",
   "id": "43a3d59e-0d7b-4382-95bb-512abb22a7a2",
   "metadata": {},
   "source": [
    "Constants"
   ]
  },
  {
   "cell_type": "code",
   "execution_count": 2,
   "id": "ee7cc240-03c6-42d4-a569-b10d569bd85b",
   "metadata": {},
   "outputs": [],
   "source": [
    "batchSize = 100\n",
    "datasetDir = \"./datasets\""
   ]
  },
  {
   "cell_type": "markdown",
   "id": "756493fd-f88f-4267-9058-b1bcf623e9c7",
   "metadata": {},
   "source": [
    "Get data"
   ]
  },
  {
   "cell_type": "code",
   "execution_count": 3,
   "id": "8283d9b9-97fb-4935-889a-cea7bcbaa1b8",
   "metadata": {},
   "outputs": [],
   "source": [
    "trainData = datasets.MNIST(root=datasetDir, train=True, transform=transforms.ToTensor(), download=True)\n",
    "testData = datasets.MNIST(root=datasetDir, train=False, transform=transforms.ToTensor(), download=True)\n",
    "trainSet, valSet = random_split(trainData, [50000, 10000]) # Create validation set"
   ]
  },
  {
   "cell_type": "markdown",
   "id": "849cec79-f852-4e8e-8ef9-504f4f554f36",
   "metadata": {},
   "source": [
    "Data loaders"
   ]
  },
  {
   "cell_type": "code",
   "execution_count": 4,
   "id": "ed2e3706-5a9c-4391-bbc8-1d2f6269bcfc",
   "metadata": {},
   "outputs": [],
   "source": [
    "trainLoader = DataLoader(trainSet, batch_size=batchSize, shuffle=True)\n",
    "valLoader = DataLoader(valSet, batch_size=batchSize, shuffle=False)\n",
    "testLoader = DataLoader(testData, batch_size=batchSize, shuffle=False)"
   ]
  },
  {
   "cell_type": "markdown",
   "id": "f49be390-c2c5-4f6d-9339-ad9fef9eb5c3",
   "metadata": {},
   "source": [
    "#### 3. Train model"
   ]
  },
  {
   "cell_type": "markdown",
   "id": "b14f9ab1-0733-4103-9700-aabab808ef8b",
   "metadata": {},
   "source": [
    "Initialize model"
   ]
  },
  {
   "cell_type": "code",
   "execution_count": 5,
   "id": "4de99f32-4175-41f4-90d1-aa94853131ef",
   "metadata": {},
   "outputs": [],
   "source": [
    "model = MNIST_Logistic_Regression()"
   ]
  },
  {
   "cell_type": "markdown",
   "id": "76fd228b-ccb4-4fe0-ab92-50a53841bc28",
   "metadata": {},
   "source": [
    "Constants"
   ]
  },
  {
   "cell_type": "code",
   "execution_count": 6,
   "id": "3815518b-7abd-432a-a5f3-2c95147e5912",
   "metadata": {},
   "outputs": [],
   "source": [
    "numEpochs = 5\n",
    "learningRate = 0.001"
   ]
  },
  {
   "cell_type": "markdown",
   "id": "22813e2a-6646-438c-a0c6-885d16b46816",
   "metadata": {},
   "source": [
    "Initial accuracy"
   ]
  },
  {
   "cell_type": "code",
   "execution_count": 7,
   "id": "13cbb9e0-90f9-4d26-aad0-1677587061b6",
   "metadata": {},
   "outputs": [],
   "source": [
    "epochAccuracy = [evaluate(model, valLoader)]"
   ]
  },
  {
   "cell_type": "markdown",
   "id": "b7a07c38-e1c0-4435-9369-2b58329ac53b",
   "metadata": {},
   "source": [
    "Train model"
   ]
  },
  {
   "cell_type": "code",
   "execution_count": 10,
   "id": "aa10216b-24dd-4d57-99d2-8df1fc7b26cd",
   "metadata": {},
   "outputs": [
    {
     "data": {
      "application/vnd.jupyter.widget-view+json": {
       "model_id": "",
       "version_major": 2,
       "version_minor": 0
      },
      "text/plain": [
       "  0%|          | 0/5 [00:00<?, ?it/s]"
      ]
     },
     "metadata": {},
     "output_type": "display_data"
    },
    {
     "data": {
      "application/vnd.jupyter.widget-view+json": {
       "model_id": "",
       "version_major": 2,
       "version_minor": 0
      },
      "text/plain": [
       "  0%|          | 0/500 [00:00<?, ?it/s]"
      ]
     },
     "metadata": {},
     "output_type": "display_data"
    },
    {
     "name": "stdout",
     "output_type": "stream",
     "text": [
      "Epoch [0], val_loss: 1.0113, val_acc: 0.8171\n"
     ]
    },
    {
     "data": {
      "application/vnd.jupyter.widget-view+json": {
       "model_id": "",
       "version_major": 2,
       "version_minor": 0
      },
      "text/plain": [
       "  0%|          | 0/500 [00:00<?, ?it/s]"
      ]
     },
     "metadata": {},
     "output_type": "display_data"
    },
    {
     "name": "stdout",
     "output_type": "stream",
     "text": [
      "Epoch [1], val_loss: 0.9446, val_acc: 0.8233\n"
     ]
    },
    {
     "data": {
      "application/vnd.jupyter.widget-view+json": {
       "model_id": "",
       "version_major": 2,
       "version_minor": 0
      },
      "text/plain": [
       "  0%|          | 0/500 [00:00<?, ?it/s]"
      ]
     },
     "metadata": {},
     "output_type": "display_data"
    },
    {
     "name": "stdout",
     "output_type": "stream",
     "text": [
      "Epoch [2], val_loss: 0.8909, val_acc: 0.8273\n"
     ]
    },
    {
     "data": {
      "application/vnd.jupyter.widget-view+json": {
       "model_id": "",
       "version_major": 2,
       "version_minor": 0
      },
      "text/plain": [
       "  0%|          | 0/500 [00:00<?, ?it/s]"
      ]
     },
     "metadata": {},
     "output_type": "display_data"
    },
    {
     "name": "stdout",
     "output_type": "stream",
     "text": [
      "Epoch [3], val_loss: 0.8467, val_acc: 0.8303\n"
     ]
    },
    {
     "data": {
      "application/vnd.jupyter.widget-view+json": {
       "model_id": "",
       "version_major": 2,
       "version_minor": 0
      },
      "text/plain": [
       "  0%|          | 0/500 [00:00<?, ?it/s]"
      ]
     },
     "metadata": {},
     "output_type": "display_data"
    },
    {
     "name": "stdout",
     "output_type": "stream",
     "text": [
      "Epoch [4], val_loss: 0.8097, val_acc: 0.8333\n"
     ]
    }
   ],
   "source": [
    "epochAccuracy += fit(numEpochs, learningRate, model, trainLoader, valLoader)"
   ]
  },
  {
   "cell_type": "markdown",
   "id": "9d63ae2e-5745-46bb-86b9-d010d36985f9",
   "metadata": {},
   "source": [
    "Plot accuracy vs num epochs"
   ]
  },
  {
   "cell_type": "code",
   "execution_count": 13,
   "id": "abf5ff11-1633-4a2a-b8ad-c3cbc0f76c5a",
   "metadata": {},
   "outputs": [
    {
     "name": "stdout",
     "output_type": "stream",
     "text": [
      "[0.05310000106692314, 0.6694999933242798, 0.7452999949455261, 0.7772999405860901, 0.7974000573158264, 0.8091999888420105, 0.8171000480651855, 0.8232999444007874, 0.8273000121116638, 0.830299973487854, 0.833299994468689]\n"
     ]
    },
    {
     "data": {
      "image/png": "[encoded data removed]",
      "text/plain": [
       "<Figure size 432x288 with 1 Axes>"
      ]
     },
     "metadata": {
      "needs_background": "light"
     },
     "output_type": "display_data"
    }
   ],
   "source": [
    "accuracies = [result['val_acc'] for result in epochAccuracy]\n",
    "plt.plot(accuracies, '-x')\n",
    "plt.xlabel('epoch')\n",
    "plt.ylabel('accuracy')\n",
    "plt.title('Accuracy vs. No. of epochs');\n",
    "print(f\"{accuracies}\")"
   ]
  },
  {
   "cell_type": "markdown",
   "id": "2eaad5cf-e9ad-4ed3-b0f8-c236944a90ef",
   "metadata": {},
   "source": [
    "#### 4. Test model"
   ]
  },
  {
   "cell_type": "code",
   "execution_count": 15,
   "id": "c67fb600-62df-494a-afbb-48b76dc963a6",
   "metadata": {},
   "outputs": [
    {
     "name": "stdout",
     "output_type": "stream",
     "text": [
      "Test accuracy=0.8489999175071716\n"
     ]
    },
    {
     "data": {
      "image/png": "[encoded data removed]",
      "text/plain": [
       "<Figure size 432x288 with 1 Axes>"
      ]
     },
     "metadata": {
      "needs_background": "light"
     },
     "output_type": "display_data"
    },
    {
     "name": "stdin",
     "output_type": "stream",
     "text": [
      "enter n to see next image, or anything else to exit:  n\n"
     ]
    },
    {
     "data": {
      "image/png": "[encoded data removed]",
      "text/plain": [
       "<Figure size 432x288 with 1 Axes>"
      ]
     },
     "metadata": {
      "needs_background": "light"
     },
     "output_type": "display_data"
    },
    {
     "name": "stdin",
     "output_type": "stream",
     "text": [
      "enter n to see next image, or anything else to exit:  n\n"
     ]
    },
    {
     "data": {
      "image/png": "[encoded data removed]",
      "text/plain": [
       "<Figure size 432x288 with 1 Axes>"
      ]
     },
     "metadata": {
      "needs_background": "light"
     },
     "output_type": "display_data"
    },
    {
     "name": "stdin",
     "output_type": "stream",
     "text": [
      "enter n to see next image, or anything else to exit:  n\n"
     ]
    },
    {
     "data": {
      "image/png": "[encoded data removed]",
      "text/plain": [
       "<Figure size 432x288 with 1 Axes>"
      ]
     },
     "metadata": {
      "needs_background": "light"
     },
     "output_type": "display_data"
    },
    {
     "name": "stdin",
     "output_type": "stream",
     "text": [
      "enter n to see next image, or anything else to exit:  n\n"
     ]
    },
    {
     "data": {
      "image/png": "[encoded data removed]",
      "text/plain": [
       "<Figure size 432x288 with 1 Axes>"
      ]
     },
     "metadata": {
      "needs_background": "light"
     },
     "output_type": "display_data"
    },
    {
     "name": "stdin",
     "output_type": "stream",
     "text": [
      "enter n to see next image, or anything else to exit:  n\n"
     ]
    },
    {
     "data": {
      "image/png": "[encoded data removed]",
      "text/plain": [
       "<Figure size 432x288 with 1 Axes>"
      ]
     },
     "metadata": {
      "needs_background": "light"
     },
     "output_type": "display_data"
    },
    {
     "name": "stdin",
     "output_type": "stream",
     "text": [
      "enter n to see next image, or anything else to exit:  n\n"
     ]
    },
    {
     "data": {
      "image/png": "[encoded data removed]",
      "text/plain": [
       "<Figure size 432x288 with 1 Axes>"
      ]
     },
     "metadata": {
      "needs_background": "light"
     },
     "output_type": "display_data"
    },
    {
     "name": "stdin",
     "output_type": "stream",
     "text": [
      "enter n to see next image, or anything else to exit:  n\n"
     ]
    },
    {
     "data": {
      "image/png": "[encoded data removed]",
      "text/plain": [
       "<Figure size 432x288 with 1 Axes>"
      ]
     },
     "metadata": {
      "needs_background": "light"
     },
     "output_type": "display_data"
    },
    {
     "name": "stdin",
     "output_type": "stream",
     "text": [
      "enter n to see next image, or anything else to exit:  n\n"
     ]
    },
    {
     "data": {
      "image/png": "[encoded data removed]",
      "text/plain": [
       "<Figure size 432x288 with 1 Axes>"
      ]
     },
     "metadata": {
      "needs_background": "light"
     },
     "output_type": "display_data"
    },
    {
     "name": "stdin",
     "output_type": "stream",
     "text": [
      "enter n to see next image, or anything else to exit:  \n"
     ]
    }
   ],
   "source": [
    "# Overall test accuracy\n",
    "result = evaluate(model, testLoader)\n",
    "print(f\"Test accuracy={result['val_acc']}\")\n",
    "\n",
    "def predict_image(img, model):\n",
    "    x = img.unsqueeze(0)\n",
    "    y = model(x)\n",
    "    _, preds = torch.max(y, dim=1)\n",
    "    return preds[0].item()\n",
    "\n",
    "keyboard = 'n'\n",
    "while keyboard == 'n':\n",
    "    img, label = testData[int(torch.randint(0, len(testData), (1,1)))]\n",
    "    displayImage(img, label, predict_image(img, model))\n",
    "    keyboard = input(\"enter n to see next image, or anything else to exit: \")"
   ]
  },
  {
   "cell_type": "code",
   "execution_count": null,
   "id": "42499742-f414-4e35-b222-0c18fec3282d",
   "metadata": {},
   "outputs": [],
   "source": []
  }
 ],
 "metadata": {
  "kernelspec": {
   "display_name": "Python 3 (ipykernel)",
   "language": "python",
   "name": "python3"
  },
  "language_info": {
   "codemirror_mode": {
    "name": "ipython",
    "version": 3
   },
   "file_extension": ".py",
   "mimetype": "text/x-python",
   "name": "python",
   "nbconvert_exporter": "python",
   "pygments_lexer": "ipython3",
   "version": "3.10.4"
  }
 },
 "nbformat": 4,
 "nbformat_minor": 5
}
