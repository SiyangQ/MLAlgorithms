{
 "cells": [
  {
   "cell_type": "markdown",
   "id": "8bcf4587-ff03-489a-8e0d-518baa3058bb",
   "metadata": {},
   "source": [
    "# MNIST classification using multi-layer perceptron"
   ]
  },
  {
   "cell_type": "markdown",
   "id": "e37925fb-7a41-4810-ba6a-298b2a6181a9",
   "metadata": {},
   "source": [
    "#### 1. Import packages"
   ]
  },
  {
   "cell_type": "code",
   "execution_count": 1,
   "id": "f7bbe0a4-e798-40b1-b517-0b7b5d9f1040",
   "metadata": {},
   "outputs": [],
   "source": [
    "import numpy as np\n",
    "import torch\n",
    "import torch.nn as nn\n",
    "import torch.nn.functional as F\n",
    "from torchvision import datasets, transforms\n",
    "from torch.utils.data import random_split, DataLoader\n",
    "from tqdm.notebook import trange, tqdm\n",
    "from IPython.display import clear_output\n",
    "import matplotlib.pyplot as plt\n",
    "%matplotlib inline\n",
    "from MLP import *"
   ]
  },
  {
   "cell_type": "markdown",
   "id": "d085ac12-0905-42d3-9dbe-461f2f7aaa54",
   "metadata": {},
   "source": [
    "#### 2. Prepare dataset"
   ]
  },
  {
   "cell_type": "markdown",
   "id": "ac582a76-f9f6-45ef-a3a3-de4ab2d3d508",
   "metadata": {},
   "source": [
    "Choose device"
   ]
  },
  {
   "cell_type": "code",
   "execution_count": 2,
   "id": "5c8b1284-81b8-4040-b604-82e866355828",
   "metadata": {},
   "outputs": [],
   "source": [
    "device = get_default_device()"
   ]
  },
  {
   "cell_type": "markdown",
   "id": "9a8a29e5-e64b-4319-8b0b-584bf6435067",
   "metadata": {},
   "source": [
    "Constants"
   ]
  },
  {
   "cell_type": "code",
   "execution_count": 3,
   "id": "b266bba4-228a-4159-8a2b-e41c494a3426",
   "metadata": {},
   "outputs": [],
   "source": [
    "batchSize = 100\n",
    "datasetDir = \"./datasets\""
   ]
  },
  {
   "cell_type": "markdown",
   "id": "b949c6a5-7057-4fcd-b1d0-47a3cc54f5a5",
   "metadata": {},
   "source": [
    "Get data"
   ]
  },
  {
   "cell_type": "code",
   "execution_count": 4,
   "id": "10573589-2419-424d-8314-8f81ba28e938",
   "metadata": {},
   "outputs": [],
   "source": [
    "trainData = datasets.MNIST(root=datasetDir, train=True, transform=transforms.ToTensor(), download=True)\n",
    "testData = datasets.MNIST(root=datasetDir, train=False, transform=transforms.ToTensor(), download=True)\n",
    "trainSet, valSet = random_split(trainData, [50000, 10000]) # Create validation set"
   ]
  },
  {
   "cell_type": "markdown",
   "id": "05cd5f6e-f7eb-44a7-9560-90678ae14d04",
   "metadata": {},
   "source": [
    "Data loaders"
   ]
  },
  {
   "cell_type": "code",
   "execution_count": 5,
   "id": "7b82a375-edd5-417d-8c3d-5186daef7125",
   "metadata": {},
   "outputs": [],
   "source": [
    "trainLoader = DataLoader(trainSet, batch_size=batchSize, shuffle=True, num_workers=4, pin_memory=True)\n",
    "valLoader = DataLoader(valSet, batch_size=batchSize, shuffle=False, num_workers=4, pin_memory=True)\n",
    "testLoader = DataLoader(testData, batch_size=batchSize, shuffle=False, num_workers=4, pin_memory=True)\n",
    "\n",
    "trainLoader = DeviceDataLoader(trainLoader, device)\n",
    "valLoader = DeviceDataLoader(valLoader, device)\n",
    "testLoader = DeviceDataLoader(testLoader, device)"
   ]
  },
  {
   "cell_type": "markdown",
   "id": "6f2e9741-852a-437d-8f15-4d51eccc0af0",
   "metadata": {},
   "source": [
    "#### 3. Train model"
   ]
  },
  {
   "cell_type": "markdown",
   "id": "2cc8d228-9c3b-427c-a7f3-b796c5caccf6",
   "metadata": {},
   "source": [
    "Initialize model"
   ]
  },
  {
   "cell_type": "code",
   "execution_count": 6,
   "id": "0ef7b807-4278-4993-aaa2-ba3bfb304f73",
   "metadata": {},
   "outputs": [
    {
     "data": {
      "text/plain": [
       "MNIST_MLP(\n",
       "  (linear1): Linear(in_features=784, out_features=32, bias=True)\n",
       "  (linear2): Linear(in_features=32, out_features=10, bias=True)\n",
       ")"
      ]
     },
     "execution_count": 6,
     "metadata": {},
     "output_type": "execute_result"
    }
   ],
   "source": [
    "model = MNIST_MLP(28*28, 32, 10)\n",
    "to_device(model, device)"
   ]
  },
  {
   "cell_type": "markdown",
   "id": "c2af0691-2dc4-4ce3-82f2-bc216bb11e61",
   "metadata": {},
   "source": [
    "Constants"
   ]
  },
  {
   "cell_type": "code",
   "execution_count": 7,
   "id": "e80f4b55-8f4d-4ed4-ac22-e662c46dd624",
   "metadata": {},
   "outputs": [],
   "source": [
    "numEpochs = 20\n",
    "learningRate = 0.001"
   ]
  },
  {
   "cell_type": "markdown",
   "id": "e90de359-0053-40a1-a77d-7060b1fc9c8d",
   "metadata": {},
   "source": [
    "Initial accuracy"
   ]
  },
  {
   "cell_type": "code",
   "execution_count": 8,
   "id": "21256b23-716f-42a3-aaa8-aa73e6e91a68",
   "metadata": {},
   "outputs": [],
   "source": [
    "epochAccuracy = [evaluate(model, valLoader)]"
   ]
  },
  {
   "cell_type": "markdown",
   "id": "83812c83-33c4-4874-a47d-0efc93eb9bbe",
   "metadata": {},
   "source": [
    "Train model"
   ]
  },
  {
   "cell_type": "code",
   "execution_count": 9,
   "id": "b40723db-5393-4773-a7bf-3677d196b01f",
   "metadata": {},
   "outputs": [
    {
     "data": {
      "application/vnd.jupyter.widget-view+json": {
       "model_id": "",
       "version_major": 2,
       "version_minor": 0
      },
      "text/plain": [
       "  0%|          | 0/20 [00:00<?, ?it/s]"
      ]
     },
     "metadata": {},
     "output_type": "display_data"
    },
    {
     "data": {
      "application/vnd.jupyter.widget-view+json": {
       "model_id": "",
       "version_major": 2,
       "version_minor": 0
      },
      "text/plain": [
       "  0%|          | 0/500 [00:00<?, ?it/s]"
      ]
     },
     "metadata": {},
     "output_type": "display_data"
    },
    {
     "name": "stdout",
     "output_type": "stream",
     "text": [
      "Epoch [0], val_loss: 2.2245, val_acc: 0.3039\n"
     ]
    },
    {
     "data": {
      "application/vnd.jupyter.widget-view+json": {
       "model_id": "",
       "version_major": 2,
       "version_minor": 0
      },
      "text/plain": [
       "  0%|          | 0/500 [00:00<?, ?it/s]"
      ]
     },
     "metadata": {},
     "output_type": "display_data"
    },
    {
     "name": "stdout",
     "output_type": "stream",
     "text": [
      "Epoch [1], val_loss: 2.1225, val_acc: 0.4837\n"
     ]
    },
    {
     "data": {
      "application/vnd.jupyter.widget-view+json": {
       "model_id": "",
       "version_major": 2,
       "version_minor": 0
      },
      "text/plain": [
       "  0%|          | 0/500 [00:00<?, ?it/s]"
      ]
     },
     "metadata": {},
     "output_type": "display_data"
    },
    {
     "name": "stdout",
     "output_type": "stream",
     "text": [
      "Epoch [2], val_loss: 2.0034, val_acc: 0.5946\n"
     ]
    },
    {
     "data": {
      "application/vnd.jupyter.widget-view+json": {
       "model_id": "",
       "version_major": 2,
       "version_minor": 0
      },
      "text/plain": [
       "  0%|          | 0/500 [00:00<?, ?it/s]"
      ]
     },
     "metadata": {},
     "output_type": "display_data"
    },
    {
     "name": "stdout",
     "output_type": "stream",
     "text": [
      "Epoch [3], val_loss: 1.8691, val_acc: 0.6402\n"
     ]
    },
    {
     "data": {
      "application/vnd.jupyter.widget-view+json": {
       "model_id": "",
       "version_major": 2,
       "version_minor": 0
      },
      "text/plain": [
       "  0%|          | 0/500 [00:00<?, ?it/s]"
      ]
     },
     "metadata": {},
     "output_type": "display_data"
    },
    {
     "name": "stdout",
     "output_type": "stream",
     "text": [
      "Epoch [4], val_loss: 1.7242, val_acc: 0.6801\n"
     ]
    },
    {
     "data": {
      "application/vnd.jupyter.widget-view+json": {
       "model_id": "",
       "version_major": 2,
       "version_minor": 0
      },
      "text/plain": [
       "  0%|          | 0/500 [00:00<?, ?it/s]"
      ]
     },
     "metadata": {},
     "output_type": "display_data"
    },
    {
     "name": "stdout",
     "output_type": "stream",
     "text": [
      "Epoch [5], val_loss: 1.5738, val_acc: 0.7164\n"
     ]
    },
    {
     "data": {
      "application/vnd.jupyter.widget-view+json": {
       "model_id": "",
       "version_major": 2,
       "version_minor": 0
      },
      "text/plain": [
       "  0%|          | 0/500 [00:00<?, ?it/s]"
      ]
     },
     "metadata": {},
     "output_type": "display_data"
    },
    {
     "name": "stdout",
     "output_type": "stream",
     "text": [
      "Epoch [6], val_loss: 1.4255, val_acc: 0.7510\n"
     ]
    },
    {
     "data": {
      "application/vnd.jupyter.widget-view+json": {
       "model_id": "",
       "version_major": 2,
       "version_minor": 0
      },
      "text/plain": [
       "  0%|          | 0/500 [00:00<?, ?it/s]"
      ]
     },
     "metadata": {},
     "output_type": "display_data"
    },
    {
     "name": "stdout",
     "output_type": "stream",
     "text": [
      "Epoch [7], val_loss: 1.2873, val_acc: 0.7727\n"
     ]
    },
    {
     "data": {
      "application/vnd.jupyter.widget-view+json": {
       "model_id": "",
       "version_major": 2,
       "version_minor": 0
      },
      "text/plain": [
       "  0%|          | 0/500 [00:00<?, ?it/s]"
      ]
     },
     "metadata": {},
     "output_type": "display_data"
    },
    {
     "name": "stdout",
     "output_type": "stream",
     "text": [
      "Epoch [8], val_loss: 1.1647, val_acc: 0.7927\n"
     ]
    },
    {
     "data": {
      "application/vnd.jupyter.widget-view+json": {
       "model_id": "",
       "version_major": 2,
       "version_minor": 0
      },
      "text/plain": [
       "  0%|          | 0/500 [00:00<?, ?it/s]"
      ]
     },
     "metadata": {},
     "output_type": "display_data"
    },
    {
     "name": "stdout",
     "output_type": "stream",
     "text": [
      "Epoch [9], val_loss: 1.0598, val_acc: 0.8064\n"
     ]
    },
    {
     "data": {
      "application/vnd.jupyter.widget-view+json": {
       "model_id": "",
       "version_major": 2,
       "version_minor": 0
      },
      "text/plain": [
       "  0%|          | 0/500 [00:00<?, ?it/s]"
      ]
     },
     "metadata": {},
     "output_type": "display_data"
    },
    {
     "name": "stdout",
     "output_type": "stream",
     "text": [
      "Epoch [10], val_loss: 0.9719, val_acc: 0.8157\n"
     ]
    },
    {
     "data": {
      "application/vnd.jupyter.widget-view+json": {
       "model_id": "",
       "version_major": 2,
       "version_minor": 0
      },
      "text/plain": [
       "  0%|          | 0/500 [00:00<?, ?it/s]"
      ]
     },
     "metadata": {},
     "output_type": "display_data"
    },
    {
     "name": "stdout",
     "output_type": "stream",
     "text": [
      "Epoch [11], val_loss: 0.8989, val_acc: 0.8230\n"
     ]
    },
    {
     "data": {
      "application/vnd.jupyter.widget-view+json": {
       "model_id": "",
       "version_major": 2,
       "version_minor": 0
      },
      "text/plain": [
       "  0%|          | 0/500 [00:00<?, ?it/s]"
      ]
     },
     "metadata": {},
     "output_type": "display_data"
    },
    {
     "name": "stdout",
     "output_type": "stream",
     "text": [
      "Epoch [12], val_loss: 0.8382, val_acc: 0.8282\n"
     ]
    },
    {
     "data": {
      "application/vnd.jupyter.widget-view+json": {
       "model_id": "",
       "version_major": 2,
       "version_minor": 0
      },
      "text/plain": [
       "  0%|          | 0/500 [00:00<?, ?it/s]"
      ]
     },
     "metadata": {},
     "output_type": "display_data"
    },
    {
     "name": "stdout",
     "output_type": "stream",
     "text": [
      "Epoch [13], val_loss: 0.7875, val_acc: 0.8330\n"
     ]
    },
    {
     "data": {
      "application/vnd.jupyter.widget-view+json": {
       "model_id": "",
       "version_major": 2,
       "version_minor": 0
      },
      "text/plain": [
       "  0%|          | 0/500 [00:00<?, ?it/s]"
      ]
     },
     "metadata": {},
     "output_type": "display_data"
    },
    {
     "name": "stdout",
     "output_type": "stream",
     "text": [
      "Epoch [14], val_loss: 0.7447, val_acc: 0.8375\n"
     ]
    },
    {
     "data": {
      "application/vnd.jupyter.widget-view+json": {
       "model_id": "",
       "version_major": 2,
       "version_minor": 0
      },
      "text/plain": [
       "  0%|          | 0/500 [00:00<?, ?it/s]"
      ]
     },
     "metadata": {},
     "output_type": "display_data"
    },
    {
     "name": "stdout",
     "output_type": "stream",
     "text": [
      "Epoch [15], val_loss: 0.7083, val_acc: 0.8413\n"
     ]
    },
    {
     "data": {
      "application/vnd.jupyter.widget-view+json": {
       "model_id": "",
       "version_major": 2,
       "version_minor": 0
      },
      "text/plain": [
       "  0%|          | 0/500 [00:00<?, ?it/s]"
      ]
     },
     "metadata": {},
     "output_type": "display_data"
    },
    {
     "name": "stdout",
     "output_type": "stream",
     "text": [
      "Epoch [16], val_loss: 0.6772, val_acc: 0.8448\n"
     ]
    },
    {
     "data": {
      "application/vnd.jupyter.widget-view+json": {
       "model_id": "",
       "version_major": 2,
       "version_minor": 0
      },
      "text/plain": [
       "  0%|          | 0/500 [00:00<?, ?it/s]"
      ]
     },
     "metadata": {},
     "output_type": "display_data"
    },
    {
     "name": "stdout",
     "output_type": "stream",
     "text": [
      "Epoch [17], val_loss: 0.6502, val_acc: 0.8481\n"
     ]
    },
    {
     "data": {
      "application/vnd.jupyter.widget-view+json": {
       "model_id": "",
       "version_major": 2,
       "version_minor": 0
      },
      "text/plain": [
       "  0%|          | 0/500 [00:00<?, ?it/s]"
      ]
     },
     "metadata": {},
     "output_type": "display_data"
    },
    {
     "name": "stdout",
     "output_type": "stream",
     "text": [
      "Epoch [18], val_loss: 0.6266, val_acc: 0.8525\n"
     ]
    },
    {
     "data": {
      "application/vnd.jupyter.widget-view+json": {
       "model_id": "",
       "version_major": 2,
       "version_minor": 0
      },
      "text/plain": [
       "  0%|          | 0/500 [00:00<?, ?it/s]"
      ]
     },
     "metadata": {},
     "output_type": "display_data"
    },
    {
     "name": "stdout",
     "output_type": "stream",
     "text": [
      "Epoch [19], val_loss: 0.6059, val_acc: 0.8563\n"
     ]
    }
   ],
   "source": [
    "epochAccuracy += fit(numEpochs, learningRate, model, trainLoader, valLoader)"
   ]
  },
  {
   "cell_type": "markdown",
   "id": "4d7ffaac-e085-4944-9c45-ea26b181069e",
   "metadata": {},
   "source": [
    "Plot accuracy vs num epoch"
   ]
  },
  {
   "cell_type": "code",
   "execution_count": 10,
   "id": "83708161-f4b0-4798-8d5b-6f7804138884",
   "metadata": {},
   "outputs": [
    {
     "name": "stdout",
     "output_type": "stream",
     "text": [
      "[0.09850000590085983, 0.30390000343322754, 0.4837000370025635, 0.5946000218391418, 0.6402000188827515, 0.6801000237464905, 0.7163999676704407, 0.7509999871253967, 0.7727000713348389, 0.7927000522613525, 0.8064000010490417, 0.8156999945640564, 0.8230000138282776, 0.828200101852417, 0.8330000042915344, 0.8375000953674316, 0.8413000702857971, 0.8447999358177185, 0.848099946975708, 0.8525000214576721, 0.8562999963760376]\n"
     ]
    },
    {
     "data": {
      "image/png": "[encoded data removed]",
      "text/plain": [
       "<Figure size 432x288 with 1 Axes>"
      ]
     },
     "metadata": {
      "needs_background": "light"
     },
     "output_type": "display_data"
    }
   ],
   "source": [
    "accuracies = [result['val_acc'] for result in epochAccuracy]\n",
    "plt.plot(accuracies, '-x')\n",
    "plt.xlabel('epoch')\n",
    "plt.ylabel('accuracy')\n",
    "plt.title('Accuracy vs. No. of epochs');\n",
    "print(f\"{accuracies}\")"
   ]
  },
  {
   "cell_type": "markdown",
   "id": "3aa7e1e9-53c7-4347-a106-38e88365c14f",
   "metadata": {},
   "source": [
    "#### 4. Test model"
   ]
  },
  {
   "cell_type": "code",
   "execution_count": 11,
   "id": "485fcab7-5715-4441-b903-a1f5d51e5279",
   "metadata": {},
   "outputs": [
    {
     "name": "stdout",
     "output_type": "stream",
     "text": [
      "Test accuracy=0.8626000285148621\n"
     ]
    }
   ],
   "source": [
    "# Overall test accuracy\n",
    "result = evaluate(model, testLoader)\n",
    "print(f\"Test accuracy={result['val_acc']}\")"
   ]
  },
  {
   "cell_type": "code",
   "execution_count": null,
   "id": "eb8bf4f1-c1fc-480e-abe4-30e67729cebc",
   "metadata": {},
   "outputs": [
    {
     "data": {
      "image/png": "[encoded data removed]",
      "text/plain": [
       "<Figure size 432x288 with 1 Axes>"
      ]
     },
     "metadata": {
      "needs_background": "light"
     },
     "output_type": "display_data"
    }
   ],
   "source": [
    "keyboard = 'n'\n",
    "while keyboard == 'n':\n",
    "    clear_output()\n",
    "    img, label = testData[int(torch.randint(0, len(testData), (1,1)))]\n",
    "    displayImage(img, label, predict_image(img, model, device))\n",
    "    keyboard = input(\"enter n to see next image, or anything else to exit: \")"
   ]
  },
  {
   "cell_type": "code",
   "execution_count": null,
   "id": "ebd448d8-4e9a-4c31-8918-997373d937ad",
   "metadata": {},
   "outputs": [],
   "source": []
  }
 ],
 "metadata": {
  "kernelspec": {
   "display_name": "Python 3 (ipykernel)",
   "language": "python",
   "name": "python3"
  },
  "language_info": {
   "codemirror_mode": {
    "name": "ipython",
    "version": 3
   },
   "file_extension": ".py",
   "mimetype": "text/x-python",
   "name": "python",
   "nbconvert_exporter": "python",
   "pygments_lexer": "ipython3",
   "version": "3.10.4"
  }
 },
 "nbformat": 4,
 "nbformat_minor": 5
}
