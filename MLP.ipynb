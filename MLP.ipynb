{
 "cells": [
  {
   "cell_type": "markdown",
   "id": "8bcf4587-ff03-489a-8e0d-518baa3058bb",
   "metadata": {},
   "source": [
    "# MNIST classification using multi-layer perceptron"
   ]
  },
  {
   "cell_type": "markdown",
   "id": "e37925fb-7a41-4810-ba6a-298b2a6181a9",
   "metadata": {},
   "source": [
    "#### 1. Import packages"
   ]
  },
  {
   "cell_type": "code",
   "execution_count": 1,
   "id": "f7bbe0a4-e798-40b1-b517-0b7b5d9f1040",
   "metadata": {},
   "outputs": [],
   "source": [
    "import numpy as np\n",
    "import torch\n",
    "import torch.nn as nn\n",
    "import torch.nn.functional as F\n",
    "from torchvision import datasets, transforms\n",
    "from torch.utils.data import random_split, DataLoader\n",
    "from tqdm.notebook import trange, tqdm\n",
    "import matplotlib.pyplot as plt\n",
    "%matplotlib inline\n",
    "from MLP import *"
   ]
  },
  {
   "cell_type": "markdown",
   "id": "d085ac12-0905-42d3-9dbe-461f2f7aaa54",
   "metadata": {},
   "source": [
    "#### 2. Prepare dataset"
   ]
  },
  {
   "cell_type": "markdown",
   "id": "ac582a76-f9f6-45ef-a3a3-de4ab2d3d508",
   "metadata": {},
   "source": [
    "Choose device"
   ]
  },
  {
   "cell_type": "code",
   "execution_count": 2,
   "id": "5c8b1284-81b8-4040-b604-82e866355828",
   "metadata": {},
   "outputs": [],
   "source": [
    "device = get_default_device()"
   ]
  },
  {
   "cell_type": "markdown",
   "id": "9a8a29e5-e64b-4319-8b0b-584bf6435067",
   "metadata": {},
   "source": [
    "Constants"
   ]
  },
  {
   "cell_type": "code",
   "execution_count": 3,
   "id": "b266bba4-228a-4159-8a2b-e41c494a3426",
   "metadata": {},
   "outputs": [],
   "source": [
    "batchSize = 100\n",
    "datasetDir = \"./datasets\""
   ]
  },
  {
   "cell_type": "markdown",
   "id": "b949c6a5-7057-4fcd-b1d0-47a3cc54f5a5",
   "metadata": {},
   "source": [
    "Get data"
   ]
  },
  {
   "cell_type": "code",
   "execution_count": 4,
   "id": "10573589-2419-424d-8314-8f81ba28e938",
   "metadata": {},
   "outputs": [],
   "source": [
    "trainData = datasets.MNIST(root=datasetDir, train=True, transform=transforms.ToTensor(), download=True)\n",
    "testData = datasets.MNIST(root=datasetDir, train=False, transform=transforms.ToTensor(), download=True)\n",
    "trainSet, valSet = random_split(trainData, [50000, 10000]) # Create validation set"
   ]
  },
  {
   "cell_type": "markdown",
   "id": "05cd5f6e-f7eb-44a7-9560-90678ae14d04",
   "metadata": {},
   "source": [
    "Data loaders"
   ]
  },
  {
   "cell_type": "code",
   "execution_count": 5,
   "id": "7b82a375-edd5-417d-8c3d-5186daef7125",
   "metadata": {},
   "outputs": [],
   "source": [
    "trainLoader = DataLoader(trainSet, batch_size=batchSize, shuffle=True, num_workers=4, pin_memory=True)\n",
    "valLoader = DataLoader(valSet, batch_size=batchSize, shuffle=False, num_workers=4, pin_memory=True)\n",
    "testLoader = DataLoader(testData, batch_size=batchSize, shuffle=False, num_workers=4, pin_memory=True)\n",
    "\n",
    "trainLoader = DeviceDataLoader(trainLoader, device)\n",
    "valLoader = DeviceDataLoader(valLoader, device)\n",
    "testLoader = DeviceDataLoader(testLoader, device)"
   ]
  },
  {
   "cell_type": "markdown",
   "id": "6f2e9741-852a-437d-8f15-4d51eccc0af0",
   "metadata": {},
   "source": [
    "#### 3. Train model"
   ]
  },
  {
   "cell_type": "markdown",
   "id": "2cc8d228-9c3b-427c-a7f3-b796c5caccf6",
   "metadata": {},
   "source": [
    "Initialize model"
   ]
  },
  {
   "cell_type": "code",
   "execution_count": 6,
   "id": "0ef7b807-4278-4993-aaa2-ba3bfb304f73",
   "metadata": {},
   "outputs": [
    {
     "data": {
      "text/plain": [
       "MNIST_MLP(\n",
       "  (linear1): Linear(in_features=784, out_features=256, bias=True)\n",
       "  (linear2): Linear(in_features=256, out_features=10, bias=True)\n",
       ")"
      ]
     },
     "execution_count": 6,
     "metadata": {},
     "output_type": "execute_result"
    }
   ],
   "source": [
    "model = MNIST_MLP(28*28, 256, 10)\n",
    "to_device(model, device)"
   ]
  },
  {
   "cell_type": "markdown",
   "id": "c2af0691-2dc4-4ce3-82f2-bc216bb11e61",
   "metadata": {},
   "source": [
    "Constants"
   ]
  },
  {
   "cell_type": "code",
   "execution_count": 7,
   "id": "e80f4b55-8f4d-4ed4-ac22-e662c46dd624",
   "metadata": {},
   "outputs": [],
   "source": [
    "numEpochs = 5\n",
    "learningRate = 0.001"
   ]
  },
  {
   "cell_type": "markdown",
   "id": "e90de359-0053-40a1-a77d-7060b1fc9c8d",
   "metadata": {},
   "source": [
    "Initial accuracy"
   ]
  },
  {
   "cell_type": "code",
   "execution_count": 8,
   "id": "21256b23-716f-42a3-aaa8-aa73e6e91a68",
   "metadata": {},
   "outputs": [],
   "source": [
    "epochAccuracy = [evaluate(model, valLoader)]"
   ]
  },
  {
   "cell_type": "markdown",
   "id": "83812c83-33c4-4874-a47d-0efc93eb9bbe",
   "metadata": {},
   "source": [
    "Train model"
   ]
  },
  {
   "cell_type": "code",
   "execution_count": 9,
   "id": "b40723db-5393-4773-a7bf-3677d196b01f",
   "metadata": {},
   "outputs": [
    {
     "data": {
      "application/vnd.jupyter.widget-view+json": {
       "model_id": "",
       "version_major": 2,
       "version_minor": 0
      },
      "text/plain": [
       "  0%|          | 0/5 [00:00<?, ?it/s]"
      ]
     },
     "metadata": {},
     "output_type": "display_data"
    },
    {
     "data": {
      "application/vnd.jupyter.widget-view+json": {
       "model_id": "",
       "version_major": 2,
       "version_minor": 0
      },
      "text/plain": [
       "  0%|          | 0/500 [00:00<?, ?it/s]"
      ]
     },
     "metadata": {},
     "output_type": "display_data"
    },
    {
     "name": "stdout",
     "output_type": "stream",
     "text": [
      "Epoch [0], val_loss: 2.2083, val_acc: 0.3575\n"
     ]
    },
    {
     "data": {
      "application/vnd.jupyter.widget-view+json": {
       "model_id": "",
       "version_major": 2,
       "version_minor": 0
      },
      "text/plain": [
       "  0%|          | 0/500 [00:00<?, ?it/s]"
      ]
     },
     "metadata": {},
     "output_type": "display_data"
    },
    {
     "name": "stdout",
     "output_type": "stream",
     "text": [
      "Epoch [1], val_loss: 2.0967, val_acc: 0.5556\n"
     ]
    },
    {
     "data": {
      "application/vnd.jupyter.widget-view+json": {
       "model_id": "",
       "version_major": 2,
       "version_minor": 0
      },
      "text/plain": [
       "  0%|          | 0/500 [00:00<?, ?it/s]"
      ]
     },
     "metadata": {},
     "output_type": "display_data"
    },
    {
     "name": "stdout",
     "output_type": "stream",
     "text": [
      "Epoch [2], val_loss: 1.9630, val_acc: 0.6474\n"
     ]
    },
    {
     "data": {
      "application/vnd.jupyter.widget-view+json": {
       "model_id": "",
       "version_major": 2,
       "version_minor": 0
      },
      "text/plain": [
       "  0%|          | 0/500 [00:00<?, ?it/s]"
      ]
     },
     "metadata": {},
     "output_type": "display_data"
    },
    {
     "name": "stdout",
     "output_type": "stream",
     "text": [
      "Epoch [3], val_loss: 1.8076, val_acc: 0.7004\n"
     ]
    },
    {
     "data": {
      "application/vnd.jupyter.widget-view+json": {
       "model_id": "",
       "version_major": 2,
       "version_minor": 0
      },
      "text/plain": [
       "  0%|          | 0/500 [00:00<?, ?it/s]"
      ]
     },
     "metadata": {},
     "output_type": "display_data"
    },
    {
     "name": "stdout",
     "output_type": "stream",
     "text": [
      "Epoch [4], val_loss: 1.6397, val_acc: 0.7256\n"
     ]
    }
   ],
   "source": [
    "epochAccuracy += fit(numEpochs, learningRate, model, trainLoader, valLoader)"
   ]
  },
  {
   "cell_type": "markdown",
   "id": "4d7ffaac-e085-4944-9c45-ea26b181069e",
   "metadata": {},
   "source": [
    "Plot accuracy vs num epoch"
   ]
  },
  {
   "cell_type": "code",
   "execution_count": 10,
   "id": "83708161-f4b0-4798-8d5b-6f7804138884",
   "metadata": {},
   "outputs": [
    {
     "name": "stdout",
     "output_type": "stream",
     "text": [
      "[0.09529999643564224, 0.35749998688697815, 0.5555999875068665, 0.6474000811576843, 0.7003999948501587, 0.725600004196167]\n"
     ]
    },
    {
     "data": {
      "image/png": "[encoded data removed]",
      "text/plain": [
       "<Figure size 432x288 with 1 Axes>"
      ]
     },
     "metadata": {
      "needs_background": "light"
     },
     "output_type": "display_data"
    }
   ],
   "source": [
    "accuracies = [result['val_acc'] for result in epochAccuracy]\n",
    "plt.plot(accuracies, '-x')\n",
    "plt.xlabel('epoch')\n",
    "plt.ylabel('accuracy')\n",
    "plt.title('Accuracy vs. No. of epochs');\n",
    "print(f\"{accuracies}\")"
   ]
  },
  {
   "cell_type": "markdown",
   "id": "3aa7e1e9-53c7-4347-a106-38e88365c14f",
   "metadata": {},
   "source": [
    "#### 4. Test model"
   ]
  },
  {
   "cell_type": "code",
   "execution_count": 11,
   "id": "485fcab7-5715-4441-b903-a1f5d51e5279",
   "metadata": {},
   "outputs": [
    {
     "name": "stdout",
     "output_type": "stream",
     "text": [
      "Test accuracy=0.7329000234603882\n"
     ]
    },
    {
     "ename": "NameError",
     "evalue": "name 'device' is not defined",
     "output_type": "error",
     "traceback": [
      "\u001b[1;31m---------------------------------------------------------------------------\u001b[0m",
      "\u001b[1;31mNameError\u001b[0m                                 Traceback (most recent call last)",
      "Input \u001b[1;32mIn [11]\u001b[0m, in \u001b[0;36m<cell line: 6>\u001b[1;34m()\u001b[0m\n\u001b[0;32m      6\u001b[0m \u001b[38;5;28;01mwhile\u001b[39;00m keyboard \u001b[38;5;241m==\u001b[39m \u001b[38;5;124m'\u001b[39m\u001b[38;5;124mn\u001b[39m\u001b[38;5;124m'\u001b[39m:\n\u001b[0;32m      7\u001b[0m     img, label \u001b[38;5;241m=\u001b[39m testData[\u001b[38;5;28mint\u001b[39m(torch\u001b[38;5;241m.\u001b[39mrandint(\u001b[38;5;241m0\u001b[39m, \u001b[38;5;28mlen\u001b[39m(testData), (\u001b[38;5;241m1\u001b[39m,\u001b[38;5;241m1\u001b[39m)))]\n\u001b[1;32m----> 8\u001b[0m     displayImage(img, label, \u001b[43mpredict_image\u001b[49m\u001b[43m(\u001b[49m\u001b[43mimg\u001b[49m\u001b[43m,\u001b[49m\u001b[43m \u001b[49m\u001b[43mmodel\u001b[49m\u001b[43m)\u001b[49m)\n\u001b[0;32m      9\u001b[0m     keyboard \u001b[38;5;241m=\u001b[39m \u001b[38;5;28minput\u001b[39m(\u001b[38;5;124m\"\u001b[39m\u001b[38;5;124menter n to see next image, or anything else to exit: \u001b[39m\u001b[38;5;124m\"\u001b[39m)\n",
      "File \u001b[1;32mD:\\Projects\\IntroML\\MLAlgorithms\\MLP.py:131\u001b[0m, in \u001b[0;36mpredict_image\u001b[1;34m(img, model)\u001b[0m\n\u001b[0;32m    130\u001b[0m \u001b[38;5;28;01mdef\u001b[39;00m \u001b[38;5;21mpredict_image\u001b[39m(img, model):\n\u001b[1;32m--> 131\u001b[0m     x \u001b[38;5;241m=\u001b[39m to_device(img\u001b[38;5;241m.\u001b[39munsqueeze(\u001b[38;5;241m0\u001b[39m), \u001b[43mdevice\u001b[49m)\n\u001b[0;32m    132\u001b[0m     y \u001b[38;5;241m=\u001b[39m model(x)\n\u001b[0;32m    133\u001b[0m     _, preds  \u001b[38;5;241m=\u001b[39m torch\u001b[38;5;241m.\u001b[39mmax(y, dim\u001b[38;5;241m=\u001b[39m\u001b[38;5;241m1\u001b[39m)\n",
      "\u001b[1;31mNameError\u001b[0m: name 'device' is not defined"
     ]
    }
   ],
   "source": [
    "# Overall test accuracy\n",
    "result = evaluate(model, testLoader)\n",
    "print(f\"Test accuracy={result['val_acc']}\")\n",
    "\n",
    "keyboard = 'n'\n",
    "while keyboard == 'n':\n",
    "    img, label = testData[int(torch.randint(0, len(testData), (1,1)))]\n",
    "    displayImage(img, label, predict_image(img, model, device))\n",
    "    keyboard = input(\"enter n to see next image, or anything else to exit: \")"
   ]
  }
 ],
 "metadata": {
  "kernelspec": {
   "display_name": "Python 3 (ipykernel)",
   "language": "python",
   "name": "python3"
  },
  "language_info": {
   "codemirror_mode": {
    "name": "ipython",
    "version": 3
   },
   "file_extension": ".py",
   "mimetype": "text/x-python",
   "name": "python",
   "nbconvert_exporter": "python",
   "pygments_lexer": "ipython3",
   "version": "3.10.4"
  }
 },
 "nbformat": 4,
 "nbformat_minor": 5
}
