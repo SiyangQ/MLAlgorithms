{
 "cells": [
  {
   "cell_type": "markdown",
   "id": "19a015d4-f236-4c48-886e-dd9ff1c3ca04",
   "metadata": {},
   "source": [
    "# cifar10 classification using CNN"
   ]
  },
  {
   "cell_type": "markdown",
   "id": "4163cebb-6ded-43fa-9d5f-f0981d967cbb",
   "metadata": {},
   "source": [
    "#### 1. import packages"
   ]
  },
  {
   "cell_type": "code",
   "execution_count": 1,
   "id": "a2be8bfe-19c4-46b3-8c4e-f7cf408c1d7c",
   "metadata": {},
   "outputs": [],
   "source": [
    "import os\n",
    "import torch\n",
    "import torchvision\n",
    "import tarfile\n",
    "from torchvision.datasets.utils import download_url\n",
    "from torch.utils.data import random_split, DataLoader\n",
    "from torchvision.datasets import ImageFolder\n",
    "from torchvision.transforms import ToTensor\n",
    "import torch.nn as nn\n",
    "import torch.nn.functional as F\n",
    "from tqdm.notebook import tqdm, trange\n",
    "from CNN import *\n",
    "import numpy as np\n",
    "import matplotlib.pyplot as plt\n",
    "%matplotlib inline"
   ]
  },
  {
   "cell_type": "markdown",
   "id": "358a9e25-da5d-42f2-915e-101bb76d3f63",
   "metadata": {},
   "source": [
    "#### 2. Prepare dataset"
   ]
  },
  {
   "cell_type": "markdown",
   "id": "93956ac1-fe88-4ef0-9228-e7e1a7b2fb4d",
   "metadata": {},
   "source": [
    "Constants"
   ]
  },
  {
   "cell_type": "code",
   "execution_count": 2,
   "id": "692156ca-9939-4be8-bc30-08c9a8026378",
   "metadata": {},
   "outputs": [],
   "source": [
    "batchSize = 100\n",
    "device = get_default_device()"
   ]
  },
  {
   "cell_type": "markdown",
   "id": "dab1b797-97d9-4dfe-a442-1b5e40627f25",
   "metadata": {},
   "source": [
    "Download images"
   ]
  },
  {
   "cell_type": "code",
   "execution_count": 3,
   "id": "1a652dcc-1120-410b-ab28-a172539bdd74",
   "metadata": {},
   "outputs": [],
   "source": [
    "if 'cifar10' not in os.listdir('datasets/'):\n",
    "    # Dowload the dataset\n",
    "    dataset_url = \"https://s3.amazonaws.com/fast-ai-imageclas/cifar10.tgz\"\n",
    "    download_url(dataset_url, '.')\n",
    "\n",
    "    # Extract from archive\n",
    "    with tarfile.open('./cifar10.tgz', 'r:gz') as tar:\n",
    "        tar.extractall(path='./datasets')\n",
    "    \n",
    "data_dir = './datasets/cifar10'"
   ]
  },
  {
   "cell_type": "markdown",
   "id": "1058fe00-d8e2-46ad-8557-9a41b19ea229",
   "metadata": {},
   "source": [
    "Split into sets"
   ]
  },
  {
   "cell_type": "code",
   "execution_count": 4,
   "id": "83dda73a-bec3-42aa-a916-c0cc83ce3569",
   "metadata": {},
   "outputs": [],
   "source": [
    "trainSet = ImageFolder(data_dir+'/train', transform=ToTensor())\n",
    "testSet = ImageFolder(data_dir+'/test', transform=ToTensor())\n",
    "trainSet, valSet = random_split(trainSet, [45000, 5000])"
   ]
  },
  {
   "cell_type": "markdown",
   "id": "8663e998-a56d-4eff-b352-8467833c51b8",
   "metadata": {},
   "source": [
    "Data loaders"
   ]
  },
  {
   "cell_type": "code",
   "execution_count": 5,
   "id": "7383dc7a-339c-4025-b387-7cddf542cd8b",
   "metadata": {},
   "outputs": [],
   "source": [
    "trainLoader = DataLoader(trainSet, batchSize, shuffle=True, num_workers=4, pin_memory=True)\n",
    "valLoader = DataLoader(valSet, batchSize, shuffle=False, num_workers=4, pin_memory=True)\n",
    "testLoader = DataLoader(testSet, batchSize, shuffle=False, num_workers=4, pin_memory=True)\n",
    "\n",
    "trainLoader = DeviceDataLoader(trainLoader, device)\n",
    "valLoader = DeviceDataLoader(valLoader, device)\n",
    "testLoader = DeviceDataLoader(testLoader, device)"
   ]
  },
  {
   "cell_type": "markdown",
   "id": "77d312cf-128a-4c3e-a3df-5fd619778655",
   "metadata": {},
   "source": [
    "#### 3. Train model"
   ]
  },
  {
   "cell_type": "code",
   "execution_count": 6,
   "id": "746191c3-e44b-4780-b7ed-fce11dc32b84",
   "metadata": {},
   "outputs": [],
   "source": [
    "model = Cifar10_CNN()\n",
    "to_device(model, device);"
   ]
  },
  {
   "cell_type": "markdown",
   "id": "ecf5db2e-8fdb-4c2a-8b74-11cce2e90208",
   "metadata": {},
   "source": [
    "Constants"
   ]
  },
  {
   "cell_type": "code",
   "execution_count": 7,
   "id": "81b69e83-5346-4e0f-862a-7a7d7808e20b",
   "metadata": {},
   "outputs": [],
   "source": [
    "num_epochs = 10\n",
    "opt_func = torch.optim.Adam\n",
    "lr = 0.001"
   ]
  },
  {
   "cell_type": "code",
   "execution_count": 8,
   "id": "9ce213af-9c6e-46b4-bbfe-9a673880e859",
   "metadata": {},
   "outputs": [
    {
     "data": {
      "application/vnd.jupyter.widget-view+json": {
       "model_id": "0b107c3ac1d6457cad910708eff75431",
       "version_major": 2,
       "version_minor": 0
      },
      "text/plain": [
       "  0%|          | 0/10 [00:00<?, ?it/s]"
      ]
     },
     "metadata": {},
     "output_type": "display_data"
    },
    {
     "data": {
      "application/vnd.jupyter.widget-view+json": {
       "model_id": "a1361d42e51e450a8d2f69e2f384c6fe",
       "version_major": 2,
       "version_minor": 0
      },
      "text/plain": [
       "  0%|          | 0/450 [00:00<?, ?it/s]"
      ]
     },
     "metadata": {},
     "output_type": "display_data"
    },
    {
     "name": "stdout",
     "output_type": "stream",
     "text": [
      "Epoch [0], train_loss: 1.7155, val_loss: 1.3081, val_acc: 0.5182\n"
     ]
    },
    {
     "data": {
      "application/vnd.jupyter.widget-view+json": {
       "model_id": "e54fac0f20ba49408163db865da05567",
       "version_major": 2,
       "version_minor": 0
      },
      "text/plain": [
       "  0%|          | 0/450 [00:00<?, ?it/s]"
      ]
     },
     "metadata": {},
     "output_type": "display_data"
    },
    {
     "name": "stdout",
     "output_type": "stream",
     "text": [
      "Epoch [1], train_loss: 1.1674, val_loss: 1.0582, val_acc: 0.6144\n"
     ]
    },
    {
     "data": {
      "application/vnd.jupyter.widget-view+json": {
       "model_id": "56cdb64920d94dff96ddd6f1bf6209a5",
       "version_major": 2,
       "version_minor": 0
      },
      "text/plain": [
       "  0%|          | 0/450 [00:00<?, ?it/s]"
      ]
     },
     "metadata": {},
     "output_type": "display_data"
    },
    {
     "name": "stdout",
     "output_type": "stream",
     "text": [
      "Epoch [2], train_loss: 0.9182, val_loss: 0.9115, val_acc: 0.6788\n"
     ]
    },
    {
     "data": {
      "application/vnd.jupyter.widget-view+json": {
       "model_id": "1dca62e2b17540a9b5d5a3faead521db",
       "version_major": 2,
       "version_minor": 0
      },
      "text/plain": [
       "  0%|          | 0/450 [00:00<?, ?it/s]"
      ]
     },
     "metadata": {},
     "output_type": "display_data"
    },
    {
     "name": "stdout",
     "output_type": "stream",
     "text": [
      "Epoch [3], train_loss: 0.7490, val_loss: 0.7667, val_acc: 0.7272\n"
     ]
    },
    {
     "data": {
      "application/vnd.jupyter.widget-view+json": {
       "model_id": "52cbfb0dd18a4b05a6a09e454d89261e",
       "version_major": 2,
       "version_minor": 0
      },
      "text/plain": [
       "  0%|          | 0/450 [00:00<?, ?it/s]"
      ]
     },
     "metadata": {},
     "output_type": "display_data"
    },
    {
     "name": "stdout",
     "output_type": "stream",
     "text": [
      "Epoch [4], train_loss: 0.6147, val_loss: 0.8010, val_acc: 0.7352\n"
     ]
    },
    {
     "data": {
      "application/vnd.jupyter.widget-view+json": {
       "model_id": "7cef224997764ff696edbc83041fdb0a",
       "version_major": 2,
       "version_minor": 0
      },
      "text/plain": [
       "  0%|          | 0/450 [00:00<?, ?it/s]"
      ]
     },
     "metadata": {},
     "output_type": "display_data"
    },
    {
     "name": "stdout",
     "output_type": "stream",
     "text": [
      "Epoch [5], train_loss: 0.5056, val_loss: 0.7056, val_acc: 0.7626\n"
     ]
    },
    {
     "data": {
      "application/vnd.jupyter.widget-view+json": {
       "model_id": "b565aad7566a442095ce90fd9e848804",
       "version_major": 2,
       "version_minor": 0
      },
      "text/plain": [
       "  0%|          | 0/450 [00:00<?, ?it/s]"
      ]
     },
     "metadata": {},
     "output_type": "display_data"
    },
    {
     "name": "stdout",
     "output_type": "stream",
     "text": [
      "Epoch [6], train_loss: 0.4017, val_loss: 0.6954, val_acc: 0.7676\n"
     ]
    },
    {
     "data": {
      "application/vnd.jupyter.widget-view+json": {
       "model_id": "e809bd91f9fb4412a0b5a3ff38ed085a",
       "version_major": 2,
       "version_minor": 0
      },
      "text/plain": [
       "  0%|          | 0/450 [00:00<?, ?it/s]"
      ]
     },
     "metadata": {},
     "output_type": "display_data"
    },
    {
     "name": "stdout",
     "output_type": "stream",
     "text": [
      "Epoch [7], train_loss: 0.3133, val_loss: 0.8046, val_acc: 0.7600\n"
     ]
    },
    {
     "data": {
      "application/vnd.jupyter.widget-view+json": {
       "model_id": "17032ff92f45403ab40469c76668f8d0",
       "version_major": 2,
       "version_minor": 0
      },
      "text/plain": [
       "  0%|          | 0/450 [00:00<?, ?it/s]"
      ]
     },
     "metadata": {},
     "output_type": "display_data"
    },
    {
     "name": "stdout",
     "output_type": "stream",
     "text": [
      "Epoch [8], train_loss: 0.2411, val_loss: 0.8880, val_acc: 0.7618\n"
     ]
    },
    {
     "data": {
      "application/vnd.jupyter.widget-view+json": {
       "model_id": "030b6671dd004815b09183f001c5e44d",
       "version_major": 2,
       "version_minor": 0
      },
      "text/plain": [
       "  0%|          | 0/450 [00:00<?, ?it/s]"
      ]
     },
     "metadata": {},
     "output_type": "display_data"
    },
    {
     "name": "stdout",
     "output_type": "stream",
     "text": [
      "Epoch [9], train_loss: 0.1837, val_loss: 0.9183, val_acc: 0.7626\n"
     ]
    }
   ],
   "source": [
    "modelAccuracy = [evaluate(model, valLoader)]\n",
    "modelAccuracy += fit(num_epochs, lr, model, trainLoader, valLoader, opt_func)"
   ]
  },
  {
   "cell_type": "code",
   "execution_count": 9,
   "id": "8d7be2ee-5398-45c7-bb3d-80ac8b2ee16b",
   "metadata": {},
   "outputs": [
    {
     "data": {
      "image/png": "[encoded data removed]",
      "text/plain": [
       "<Figure size 432x288 with 1 Axes>"
      ]
     },
     "metadata": {
      "needs_background": "light"
     },
     "output_type": "display_data"
    }
   ],
   "source": [
    "accuracies = [x['val_acc'] for x in modelAccuracy]\n",
    "plt.plot(accuracies, '-x')\n",
    "plt.xlabel('epoch')\n",
    "plt.ylabel('accuracy')\n",
    "plt.title('Accuracy vs. No. of epochs');"
   ]
  },
  {
   "cell_type": "markdown",
   "id": "63b074b5-2f0f-499d-9640-a37854965483",
   "metadata": {},
   "source": [
    "#### 4. Test model"
   ]
  },
  {
   "cell_type": "markdown",
   "id": "2d94654e-b2ab-4720-90dc-fb192147f28e",
   "metadata": {},
   "source": [
    "Overall accuracy"
   ]
  },
  {
   "cell_type": "code",
   "execution_count": 10,
   "id": "ea3ba7ad-d3f0-4b21-8b6d-5b0c045cebf3",
   "metadata": {},
   "outputs": [
    {
     "name": "stdout",
     "output_type": "stream",
     "text": [
      "Test accuracy=0.7634000182151794\n"
     ]
    }
   ],
   "source": [
    "# Overall test accuracy\n",
    "result = evaluate(model, testLoader)\n",
    "print(f\"Test accuracy={result['val_acc']}\")"
   ]
  },
  {
   "cell_type": "markdown",
   "id": "f9c1a154-50e7-4c2d-a413-6374d08eca9d",
   "metadata": {},
   "source": [
    "Image display"
   ]
  },
  {
   "cell_type": "code",
   "execution_count": 11,
   "id": "b06a8221-f962-4d56-a77a-7c334f53d054",
   "metadata": {},
   "outputs": [
    {
     "name": "stdout",
     "output_type": "stream",
     "text": [
      "Label: bird , Predicted: frog\n"
     ]
    },
    {
     "data": {
      "image/png": "[encoded data removed]",
      "text/plain": [
       "<Figure size 432x288 with 1 Axes>"
      ]
     },
     "metadata": {
      "needs_background": "light"
     },
     "output_type": "display_data"
    }
   ],
   "source": [
    "img, label = testSet[int(torch.randint(0, len(testSet), (1,1)))]\n",
    "plt.imshow(img.permute(1, 2, 0))\n",
    "print('Label:', testSet.classes[label], ', Predicted:', predict_image(img, model, testSet.classes, device))"
   ]
  },
  {
   "cell_type": "markdown",
   "id": "020ce9d6-8743-40dd-918c-c647dbaf8bbd",
   "metadata": {},
   "source": [
    "#### Save and load model"
   ]
  },
  {
   "cell_type": "markdown",
   "id": "743f222c-6ead-4285-81f6-3509ded03239",
   "metadata": {},
   "source": [
    "Save model"
   ]
  },
  {
   "cell_type": "code",
   "execution_count": 15,
   "id": "df73a464-987e-4cae-85a8-1e2093df7453",
   "metadata": {},
   "outputs": [],
   "source": [
    "torch.save(model.state_dict(), 'modelParameters/cifar10-cnn.pth')"
   ]
  },
  {
   "cell_type": "markdown",
   "id": "4303b9ac-107c-43ca-a2ea-8cbe81f783c2",
   "metadata": {},
   "source": [
    "Load model"
   ]
  },
  {
   "cell_type": "code",
   "execution_count": 16,
   "id": "8db96932-1096-4518-b66b-9da0991c9854",
   "metadata": {},
   "outputs": [
    {
     "data": {
      "text/plain": [
       "<All keys matched successfully>"
      ]
     },
     "execution_count": 16,
     "metadata": {},
     "output_type": "execute_result"
    }
   ],
   "source": [
    "model2 = to_device(Cifar10_CNN(), device)\n",
    "model2.load_state_dict(torch.load('modelParameters/cifar10-cnn.pth'))"
   ]
  },
  {
   "cell_type": "code",
   "execution_count": null,
   "id": "1ed31529-2edc-41d8-a303-b4d004407049",
   "metadata": {},
   "outputs": [],
   "source": []
  }
 ],
 "metadata": {
  "kernelspec": {
   "display_name": "Python 3 (ipykernel)",
   "language": "python",
   "name": "python3"
  },
  "language_info": {
   "codemirror_mode": {
    "name": "ipython",
    "version": 3
   },
   "file_extension": ".py",
   "mimetype": "text/x-python",
   "name": "python",
   "nbconvert_exporter": "python",
   "pygments_lexer": "ipython3",
   "version": "3.10.4"
  }
 },
 "nbformat": 4,
 "nbformat_minor": 5
}
